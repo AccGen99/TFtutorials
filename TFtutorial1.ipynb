{
  "nbformat": 4,
  "nbformat_minor": 0,
  "metadata": {
    "colab": {
      "name": "TFtutorial1.ipynb",
      "provenance": []
    },
    "kernelspec": {
      "name": "python3",
      "display_name": "Python 3"
    }
  },
  "cells": [
    {
      "cell_type": "code",
      "metadata": {
        "colab": {
          "base_uri": "https://localhost:8080/"
        },
        "id": "xsafPk3qrjTa",
        "outputId": "a8a69258-03dc-49a1-a731-83dbf0fe947a"
      },
      "source": [
        "import tensorflow as tf\r\n",
        "print(tf.__version__)\r\n",
        "\r\n",
        "physical_devices = tf.config.list_physical_devices('GPU')\r\n",
        "tf.config.experimental.set_memory_growth(physical_devices[0], True)"
      ],
      "execution_count": 31,
      "outputs": [
        {
          "output_type": "stream",
          "text": [
            "2.4.1\n"
          ],
          "name": "stdout"
        },
        {
          "output_type": "execute_result",
          "data": {
            "text/plain": [
              "[]"
            ]
          },
          "metadata": {
            "tags": []
          },
          "execution_count": 31
        }
      ]
    },
    {
      "cell_type": "code",
      "metadata": {
        "colab": {
          "base_uri": "https://localhost:8080/"
        },
        "id": "LVFYr1E9sHx8",
        "outputId": "e9f9981b-7a1e-4a3f-d76c-2230e5555b4f"
      },
      "source": [
        "# Initialization of Tensors\r\n",
        "x = tf.constant(5, shape=(1,1), dtype=tf.float32)\r\n",
        "print(x)\r\n",
        "\r\n",
        "x = tf.constant([[1, 2, 3], [4, 5, 6]])\r\n",
        "print(x)\r\n",
        "\r\n",
        "x = tf.ones((3, 3))\r\n",
        "print(x)\r\n",
        "\r\n",
        "x = tf.zeros((3, 2))\r\n",
        "print(x)\r\n",
        "\r\n",
        "x = tf.eye(4)\r\n",
        "print(x)\r\n",
        "\r\n",
        "x = tf.random.normal((3, 3, 4), mean = 0, stddev=1)\r\n",
        "print(x)\r\n",
        "\r\n",
        "x = tf.random.uniform((2, 3, 1), minval=0, maxval=1)\r\n",
        "print(x)\r\n",
        "\r\n",
        "x = tf.range(start=12, limit=50, delta=5)\r\n",
        "print(x)\r\n",
        "\r\n",
        "x = tf.cast(x, dtype=tf.float64)\r\n",
        "print(x)"
      ],
      "execution_count": 18,
      "outputs": [
        {
          "output_type": "stream",
          "text": [
            "tf.Tensor([[5.]], shape=(1, 1), dtype=float32)\n",
            "tf.Tensor(\n",
            "[[1 2 3]\n",
            " [4 5 6]], shape=(2, 3), dtype=int32)\n",
            "tf.Tensor(\n",
            "[[1. 1. 1.]\n",
            " [1. 1. 1.]\n",
            " [1. 1. 1.]], shape=(3, 3), dtype=float32)\n",
            "tf.Tensor(\n",
            "[[0. 0.]\n",
            " [0. 0.]\n",
            " [0. 0.]], shape=(3, 2), dtype=float32)\n",
            "tf.Tensor(\n",
            "[[1. 0. 0. 0.]\n",
            " [0. 1. 0. 0.]\n",
            " [0. 0. 1. 0.]\n",
            " [0. 0. 0. 1.]], shape=(4, 4), dtype=float32)\n",
            "tf.Tensor(\n",
            "[[[ 0.55486727  1.3722117  -0.08234406 -1.0821774 ]\n",
            "  [-0.03905461 -0.95766586 -0.6588953  -0.34808645]\n",
            "  [-0.60673577 -0.18944438 -1.2782978  -0.5253984 ]]\n",
            "\n",
            " [[ 0.10839629 -0.07812683 -1.7072905   2.2144344 ]\n",
            "  [-1.5568018   1.8935933   0.23394819  1.0081271 ]\n",
            "  [-1.2977152   0.4342687   0.17600217  1.5406469 ]]\n",
            "\n",
            " [[-0.36695272  1.1264651   1.7151977   0.4804039 ]\n",
            "  [-0.593934   -0.90994954 -0.69948727  0.6817447 ]\n",
            "  [ 1.0112143  -1.0109978   1.007972    0.8113785 ]]], shape=(3, 3, 4), dtype=float32)\n",
            "tf.Tensor(\n",
            "[[[0.29448295]\n",
            "  [0.4797789 ]\n",
            "  [0.04334593]]\n",
            "\n",
            " [[0.8308873 ]\n",
            "  [0.769277  ]\n",
            "  [0.81379616]]], shape=(2, 3, 1), dtype=float32)\n",
            "tf.Tensor([12 17 22 27 32 37 42 47], shape=(8,), dtype=int32)\n",
            "tf.Tensor([12. 17. 22. 27. 32. 37. 42. 47.], shape=(8,), dtype=float64)\n"
          ],
          "name": "stdout"
        }
      ]
    },
    {
      "cell_type": "code",
      "metadata": {
        "colab": {
          "base_uri": "https://localhost:8080/"
        },
        "id": "GW69aDz3u7lr",
        "outputId": "dc408b64-5b51-425b-e785-c43123a7cce7"
      },
      "source": [
        "# Mathematical Operations\r\n",
        "x = tf.constant([2, 3, 4])\r\n",
        "y = tf.constant([8, 9, 10])\r\n",
        "z = tf.add(x, y)\r\n",
        "print(z)\r\n",
        "\r\n",
        "z = tf.subtract(x, y)\r\n",
        "print(z)\r\n",
        "\r\n",
        "z = tf.divide(x, y)\r\n",
        "print(z)\r\n",
        "\r\n",
        "z = tf.multiply(x, y)\r\n",
        "print(z)\r\n",
        "\r\n",
        "z = tf.tensordot(x, y, axes=1) # Same as tf.reduce_sum(x, y, axis=0)\r\n",
        "print(z)\r\n",
        "\r\n",
        "z = x**5\r\n",
        "print(z)\r\n",
        "\r\n",
        "x = tf.random.normal((3, 4))\r\n",
        "y = tf.random.normal((4, 5))\r\n",
        "z = tf.matmul(x, y)\r\n",
        "print(z)"
      ],
      "execution_count": 32,
      "outputs": [
        {
          "output_type": "stream",
          "text": [
            "tf.Tensor([10 12 14], shape=(3,), dtype=int32)\n",
            "tf.Tensor([-6 -6 -6], shape=(3,), dtype=int32)\n",
            "tf.Tensor([0.25       0.33333333 0.4       ], shape=(3,), dtype=float64)\n",
            "tf.Tensor([16 27 40], shape=(3,), dtype=int32)\n",
            "tf.Tensor(83, shape=(), dtype=int32)\n",
            "tf.Tensor([  32  243 1024], shape=(3,), dtype=int32)\n",
            "tf.Tensor(\n",
            "[[-2.474565   -0.3389429  -6.530881   -3.1911995   2.5414417 ]\n",
            " [-1.3457947   0.58218473 -7.1543     -3.825325    2.0030847 ]\n",
            " [-1.0633892   0.5783026   0.78946936  2.3478193  -0.9811282 ]], shape=(3, 5), dtype=float32)\n"
          ],
          "name": "stdout"
        }
      ]
    },
    {
      "cell_type": "code",
      "metadata": {
        "colab": {
          "base_uri": "https://localhost:8080/"
        },
        "id": "DdGZm0VWu-_c",
        "outputId": "475faeeb-51d2-45c2-c579-cdce2e961586"
      },
      "source": [
        "# Indexing\r\n",
        "x = tf.constant([[3, 5, 2, 6, 1, 8, 0], [5, 2, 7, 0, 3, 6, 8]])\r\n",
        "print(x[:])\r\n",
        "\r\n",
        "print(x[:, 1:])\r\n",
        "\r\n",
        "print(x[::-1])\r\n",
        "\r\n",
        "indices = tf.constant([0, 1])\r\n",
        "x_ind = tf.gather(x, indices)\r\n",
        "\r\n",
        "x = tf.constant([[1, 2],\r\n",
        "                 [3, 4],\r\n",
        "                 [5, 6]])\r\n",
        "print(x[0:2,:])"
      ],
      "execution_count": 42,
      "outputs": [
        {
          "output_type": "stream",
          "text": [
            "tf.Tensor(\n",
            "[[3 5 2 6 1 8 0]\n",
            " [5 2 7 0 3 6 8]], shape=(2, 7), dtype=int32)\n",
            "tf.Tensor(\n",
            "[[5 2 6 1 8 0]\n",
            " [2 7 0 3 6 8]], shape=(2, 6), dtype=int32)\n",
            "tf.Tensor(\n",
            "[[5 2 7 0 3 6 8]\n",
            " [3 5 2 6 1 8 0]], shape=(2, 7), dtype=int32)\n",
            "tf.Tensor(\n",
            "[[1 2]\n",
            " [3 4]], shape=(2, 2), dtype=int32)\n"
          ],
          "name": "stdout"
        }
      ]
    },
    {
      "cell_type": "code",
      "metadata": {
        "colab": {
          "base_uri": "https://localhost:8080/"
        },
        "id": "FF3V0Kb9vA_h",
        "outputId": "4c6bddbd-e002-4dd1-f869-a2dc337c0a07"
      },
      "source": [
        "# Reshaping\r\n",
        "x = tf.range(9)\r\n",
        "print(x)\r\n",
        "\r\n",
        "x = tf.reshape(x, (3, 3))\r\n",
        "print(x)\r\n",
        "\r\n",
        "x = tf.transpose(x, perm=[1,0])\r\n",
        "print(x)"
      ],
      "execution_count": 45,
      "outputs": [
        {
          "output_type": "stream",
          "text": [
            "tf.Tensor([0 1 2 3 4 5 6 7 8], shape=(9,), dtype=int32)\n",
            "tf.Tensor(\n",
            "[[0 1 2]\n",
            " [3 4 5]\n",
            " [6 7 8]], shape=(3, 3), dtype=int32)\n",
            "tf.Tensor(\n",
            "[[0 3 6]\n",
            " [1 4 7]\n",
            " [2 5 8]], shape=(3, 3), dtype=int32)\n"
          ],
          "name": "stdout"
        }
      ]
    },
    {
      "cell_type": "code",
      "metadata": {
        "id": "i2-bfIdq1e-a"
      },
      "source": [
        ""
      ],
      "execution_count": null,
      "outputs": []
    }
  ]
}