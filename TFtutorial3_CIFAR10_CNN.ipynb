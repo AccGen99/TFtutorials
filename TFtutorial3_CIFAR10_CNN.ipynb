{
  "nbformat": 4,
  "nbformat_minor": 0,
  "metadata": {
    "colab": {
      "name": "Tutorial3.ipynb",
      "provenance": []
    },
    "kernelspec": {
      "name": "python3",
      "display_name": "Python 3"
    }
  },
  "cells": [
    {
      "cell_type": "code",
      "metadata": {
        "id": "qvzEaIKCkSHJ"
      },
      "source": [
        "import tensorflow as tf\r\n",
        "from tensorflow import keras\r\n",
        "from tensorflow.keras import layers\r\n",
        "from tensorflow.keras.datasets import cifar10"
      ],
      "execution_count": 1,
      "outputs": []
    },
    {
      "cell_type": "code",
      "metadata": {
        "id": "Skd3ZPfZk5ac"
      },
      "source": [
        "(x_train, y_train), (x_test, y_test) = cifar10.load_data()"
      ],
      "execution_count": 5,
      "outputs": []
    },
    {
      "cell_type": "code",
      "metadata": {
        "id": "3HrrEsqVlGiD"
      },
      "source": [
        "x_train = x_train.astype('float32') / 255.0         # Since we're using CNNs, we don't flatten the sets\r\n",
        "x_test = x_test.astype('float32') / 255.0"
      ],
      "execution_count": 6,
      "outputs": []
    },
    {
      "cell_type": "code",
      "metadata": {
        "id": "FNnsk91blNFq"
      },
      "source": [
        "model = keras.Sequential(\r\n",
        "    [\r\n",
        "     keras.Input(shape=(32, 32, 3)),\r\n",
        "     layers.Conv2D(32, 3, padding='valid', activation='relu'),\r\n",
        "     layers.MaxPooling2D(pool_size=(2, 2)),\r\n",
        "     layers.Conv2D(64, 3, activation='relu'),\r\n",
        "     layers.MaxPooling2D(),\r\n",
        "     layers.Conv2D(128, 3, activation='relu'),\r\n",
        "     layers.Flatten(),\r\n",
        "     layers.Dense(64, activation='relu'),\r\n",
        "     layers.Dense(10)\r\n",
        "    ]\r\n",
        ")\r\n",
        "\r\n",
        "model.compile(\r\n",
        "    loss = keras.losses.SparseCategoricalCrossentropy(from_logits=True),\r\n",
        "    optimizer = keras.optimizers.Adam(learning_rate=3e-04),\r\n",
        "    metrics = ['accuracy']\r\n",
        ")"
      ],
      "execution_count": 8,
      "outputs": []
    },
    {
      "cell_type": "code",
      "metadata": {
        "colab": {
          "base_uri": "https://localhost:8080/"
        },
        "id": "tzdfb1nylYfF",
        "outputId": "0b978cae-6c38-4934-95fa-b0e62b890c9a"
      },
      "source": [
        "model.fit(x_train, y_train, batch_size=64, epochs=10, verbose=2)"
      ],
      "execution_count": 9,
      "outputs": [
        {
          "output_type": "stream",
          "text": [
            "Epoch 1/10\n",
            "782/782 - 63s - loss: 1.6626 - accuracy: 0.3955\n",
            "Epoch 2/10\n",
            "782/782 - 63s - loss: 1.3333 - accuracy: 0.5234\n",
            "Epoch 3/10\n",
            "782/782 - 62s - loss: 1.2101 - accuracy: 0.5738\n",
            "Epoch 4/10\n",
            "782/782 - 63s - loss: 1.1087 - accuracy: 0.6104\n",
            "Epoch 5/10\n",
            "782/782 - 63s - loss: 1.0320 - accuracy: 0.6403\n",
            "Epoch 6/10\n",
            "782/782 - 61s - loss: 0.9743 - accuracy: 0.6604\n",
            "Epoch 7/10\n",
            "782/782 - 61s - loss: 0.9186 - accuracy: 0.6818\n",
            "Epoch 8/10\n",
            "782/782 - 62s - loss: 0.8769 - accuracy: 0.6966\n",
            "Epoch 9/10\n",
            "782/782 - 62s - loss: 0.8359 - accuracy: 0.7100\n",
            "Epoch 10/10\n",
            "782/782 - 62s - loss: 0.8002 - accuracy: 0.7236\n"
          ],
          "name": "stdout"
        },
        {
          "output_type": "execute_result",
          "data": {
            "text/plain": [
              "<tensorflow.python.keras.callbacks.History at 0x7fda4fd86810>"
            ]
          },
          "metadata": {
            "tags": []
          },
          "execution_count": 9
        }
      ]
    },
    {
      "cell_type": "code",
      "metadata": {
        "colab": {
          "base_uri": "https://localhost:8080/"
        },
        "id": "CQSAS3GCnzan",
        "outputId": "a025c5d2-bf81-4144-df3c-91d795c62ab3"
      },
      "source": [
        "model.evaluate(x_test, y_test, batch_size=64, verbose=2)"
      ],
      "execution_count": 10,
      "outputs": [
        {
          "output_type": "stream",
          "text": [
            "157/157 - 4s - loss: 0.8977 - accuracy: 0.6887\n"
          ],
          "name": "stdout"
        },
        {
          "output_type": "execute_result",
          "data": {
            "text/plain": [
              "[0.8976629972457886, 0.6887000203132629]"
            ]
          },
          "metadata": {
            "tags": []
          },
          "execution_count": 10
        }
      ]
    },
    {
      "cell_type": "code",
      "metadata": {
        "id": "J18C0zS9ofvk"
      },
      "source": [
        "def custom_model():\r\n",
        "  inputs = keras.Input(shape=(32, 32, 3))\r\n",
        "  x = layers.Conv2D(32, 3)(inputs)\r\n",
        "  x = layers.BatchNormalization()(x)\r\n",
        "  x = keras.activations.relu(x)\r\n",
        "  x = layers.MaxPooling2D()(x)\r\n",
        "  x = layers.Conv2D(64, 5, padding='same')(x)\r\n",
        "  x = layers.BatchNormalization()(x)\r\n",
        "  x = keras.activations.relu(x)\r\n",
        "  x = layers.Conv2D(128, 3)(x)\r\n",
        "  x = layers.BatchNormalization()(x)\r\n",
        "  x = keras.activations.relu(x)\r\n",
        "  x = layers.Flatten()\r\n",
        "  x = layers.Dense(64, activation='relu')(x)\r\n",
        "  output = layers.Dense(10)(x)\r\n",
        "  model = keras.Model(inputs = inputs, outputs = outputs)\r\n",
        "  return model"
      ],
      "execution_count": 11,
      "outputs": []
    },
    {
      "cell_type": "code",
      "metadata": {
        "id": "FJgUxMv9qzBA"
      },
      "source": [
        ""
      ],
      "execution_count": null,
      "outputs": []
    }
  ]
}