{
  "nbformat": 4,
  "nbformat_minor": 0,
  "metadata": {
    "colab": {
      "name": "TFtutorial2.ipynb",
      "provenance": []
    },
    "kernelspec": {
      "name": "python3",
      "display_name": "Python 3"
    }
  },
  "cells": [
    {
      "cell_type": "code",
      "metadata": {
        "id": "PQc1iUAi2Vuw"
      },
      "source": [
        "import tensorflow as tf\r\n",
        "from tensorflow import keras\r\n",
        "from tensorflow.keras import layers\r\n",
        "from tensorflow.keras.datasets import mnist"
      ],
      "execution_count": 25,
      "outputs": []
    },
    {
      "cell_type": "code",
      "metadata": {
        "id": "z8qrwu2p20eW"
      },
      "source": [
        "(x_train, y_train), (x_test, y_test) = mnist.load_data()"
      ],
      "execution_count": 26,
      "outputs": []
    },
    {
      "cell_type": "code",
      "metadata": {
        "colab": {
          "base_uri": "https://localhost:8080/"
        },
        "id": "c_FmA-Nc4PQq",
        "outputId": "79364463-4ea4-40ce-c20f-03b15a080654"
      },
      "source": [
        "print(x_train.shape)\r\n",
        "print(y_train.shape)"
      ],
      "execution_count": 27,
      "outputs": [
        {
          "output_type": "stream",
          "text": [
            "(60000, 28, 28)\n",
            "(60000,)\n"
          ],
          "name": "stdout"
        }
      ]
    },
    {
      "cell_type": "code",
      "metadata": {
        "id": "C0opeaoF4XkG"
      },
      "source": [
        "x_train = x_train.reshape(-1, 28*28).astype('float32') / 255.0\r\n",
        "x_test = x_test.reshape(-1, 28*28).astype('float32') / 255.0"
      ],
      "execution_count": 28,
      "outputs": []
    },
    {
      "cell_type": "markdown",
      "metadata": {
        "id": "4WPE-E8Mu9NX"
      },
      "source": [
        "## Sequential API"
      ]
    },
    {
      "cell_type": "code",
      "metadata": {
        "id": "VuMfieDb45AY"
      },
      "source": [
        "# Sequential API\r\n",
        "# Convenient, NOT Flexible\r\n",
        "# Maps 1 input to 1 output\r\n",
        "seq_model = keras.Sequential(\r\n",
        "    [\r\n",
        "     # Layers\r\n",
        "     keras.Input(shape=(28*28)),\r\n",
        "     layers.Dense(512, activation='relu'),   # Fully Connected Layer\r\n",
        "     layers.Dense(256, activation='relu'),\r\n",
        "     layers.Dense(10),\r\n",
        "    ]\r\n",
        ")\r\n",
        "\r\n",
        "seq_model.compile(                # Configuring how model is evaluated\r\n",
        "    loss = keras.losses.SparseCategoricalCrossentropy(from_logits=True),        # Loss Function, if we want only CategoricalCrossentropy then we'll need to use one-hot encoding\r\n",
        "    optimizer = keras.optimizers.Adam(learning_rate=0.001),\r\n",
        "    metrics = ['accuracy'],\r\n",
        ")"
      ],
      "execution_count": 30,
      "outputs": []
    },
    {
      "cell_type": "code",
      "metadata": {
        "colab": {
          "base_uri": "https://localhost:8080/"
        },
        "id": "uiIV4OeJpCs8",
        "outputId": "3af0bedf-9aaa-479a-9fa2-e2c056f3f358"
      },
      "source": [
        "seq_model.fit(x_train, y_train, batch_size=32, epochs=5, verbose=2)"
      ],
      "execution_count": 31,
      "outputs": [
        {
          "output_type": "stream",
          "text": [
            "Epoch 1/5\n",
            "1875/1875 - 9s - loss: 0.1878 - accuracy: 0.9425\n",
            "Epoch 2/5\n",
            "1875/1875 - 8s - loss: 0.0808 - accuracy: 0.9754\n",
            "Epoch 3/5\n",
            "1875/1875 - 8s - loss: 0.0543 - accuracy: 0.9825\n",
            "Epoch 4/5\n",
            "1875/1875 - 8s - loss: 0.0401 - accuracy: 0.9867\n",
            "Epoch 5/5\n",
            "1875/1875 - 8s - loss: 0.0316 - accuracy: 0.9901\n"
          ],
          "name": "stdout"
        },
        {
          "output_type": "execute_result",
          "data": {
            "text/plain": [
              "<tensorflow.python.keras.callbacks.History at 0x7fe1256575d0>"
            ]
          },
          "metadata": {
            "tags": []
          },
          "execution_count": 31
        }
      ]
    },
    {
      "cell_type": "code",
      "metadata": {
        "colab": {
          "base_uri": "https://localhost:8080/"
        },
        "id": "Cee5wbEypF1C",
        "outputId": "3baf37f4-27d1-4148-f769-2392a3d0dda5"
      },
      "source": [
        "seq_model.evaluate(x_test, y_test, batch_size=32, verbose=2)"
      ],
      "execution_count": 19,
      "outputs": [
        {
          "output_type": "stream",
          "text": [
            "313/313 - 1s - loss: 2.3561 - accuracy: 0.1019\n"
          ],
          "name": "stdout"
        },
        {
          "output_type": "execute_result",
          "data": {
            "text/plain": [
              "[2.3561339378356934, 0.10189999639987946]"
            ]
          },
          "metadata": {
            "tags": []
          },
          "execution_count": 19
        }
      ]
    },
    {
      "cell_type": "markdown",
      "metadata": {
        "id": "P92TyZrzvCK3"
      },
      "source": [
        "## Functional API"
      ]
    },
    {
      "cell_type": "code",
      "metadata": {
        "id": "bynCUCjwrHlS"
      },
      "source": [
        "# Functional API\r\n",
        "# Little more Flexible\r\n",
        "inputs = keras.Input(shape=(28*28))\r\n",
        "x = layers.Dense(512, activation='relu')(inputs)\r\n",
        "x = layers.Dense(256, activation='relu')(x)\r\n",
        "outputs = layers.Dense(10, activation='softmax')(x)\r\n",
        "func_model = keras.Model(inputs=inputs, outputs=outputs)"
      ],
      "execution_count": 21,
      "outputs": []
    },
    {
      "cell_type": "code",
      "metadata": {
        "id": "jClKbtVpr4lW"
      },
      "source": [
        "func_model.compile(                # Configuring how model is evaluated\r\n",
        "    loss = keras.losses.SparseCategoricalCrossentropy(from_logits=False),        # Loss Function, if we want only CategoricalCrossentropy then we'll need to use one-hot encoding\r\n",
        "    optimizer = keras.optimizers.Adam(learning_rate=0.001),\r\n",
        "    metrics = ['accuracy'],\r\n",
        ")"
      ],
      "execution_count": 22,
      "outputs": []
    },
    {
      "cell_type": "code",
      "metadata": {
        "colab": {
          "base_uri": "https://localhost:8080/"
        },
        "id": "DrMQyIiQsVO-",
        "outputId": "32b5e77d-df1d-45db-da28-8fe697ee0db0"
      },
      "source": [
        "func_model.fit(x_train, y_train, batch_size=32, epochs=5, verbose=2)"
      ],
      "execution_count": 23,
      "outputs": [
        {
          "output_type": "stream",
          "text": [
            "Epoch 1/5\n",
            "1875/1875 - 9s - loss: 0.1863 - accuracy: 0.9431\n",
            "Epoch 2/5\n",
            "1875/1875 - 8s - loss: 0.0776 - accuracy: 0.9759\n",
            "Epoch 3/5\n",
            "1875/1875 - 8s - loss: 0.0554 - accuracy: 0.9829\n",
            "Epoch 4/5\n",
            "1875/1875 - 8s - loss: 0.0401 - accuracy: 0.9872\n",
            "Epoch 5/5\n",
            "1875/1875 - 8s - loss: 0.0318 - accuracy: 0.9898\n"
          ],
          "name": "stdout"
        },
        {
          "output_type": "execute_result",
          "data": {
            "text/plain": [
              "<tensorflow.python.keras.callbacks.History at 0x7fe130d82750>"
            ]
          },
          "metadata": {
            "tags": []
          },
          "execution_count": 23
        }
      ]
    },
    {
      "cell_type": "code",
      "metadata": {
        "colab": {
          "base_uri": "https://localhost:8080/"
        },
        "id": "KBqMumXcsZ9n",
        "outputId": "082f0db8-8045-430a-d3dd-abcbc9f9bcf6"
      },
      "source": [
        "func_model.evaluate(x_test, y_test, batch_size=32, verbose=2)"
      ],
      "execution_count": 24,
      "outputs": [
        {
          "output_type": "stream",
          "text": [
            "313/313 - 1s - loss: 0.0763 - accuracy: 0.9789\n"
          ],
          "name": "stdout"
        },
        {
          "output_type": "execute_result",
          "data": {
            "text/plain": [
              "[0.07633870095014572, 0.9789000153541565]"
            ]
          },
          "metadata": {
            "tags": []
          },
          "execution_count": 24
        }
      ]
    },
    {
      "cell_type": "markdown",
      "metadata": {
        "id": "6joq9yo6urrZ"
      },
      "source": [
        "# Testing Different Optimizers"
      ]
    },
    {
      "cell_type": "code",
      "metadata": {
        "colab": {
          "base_uri": "https://localhost:8080/"
        },
        "id": "v0iNxdOIsq82",
        "outputId": "2d90350c-9d6a-4f50-ba78-ff5352f2eec0"
      },
      "source": [
        "SGD_model = keras.Sequential(\r\n",
        "    [\r\n",
        "     # Layers\r\n",
        "     keras.Input(shape=(28*28)),\r\n",
        "     layers.Dense(512, activation='relu'),   # Fully Connected Layer\r\n",
        "     layers.Dense(256, activation='relu'),\r\n",
        "     layers.Dense(10),\r\n",
        "    ]\r\n",
        ")\r\n",
        "\r\n",
        "SGD_model.compile(                # Configuring how model is evaluated\r\n",
        "    loss = keras.losses.SparseCategoricalCrossentropy(from_logits=True),        # Loss Function, if we want only CategoricalCrossentropy then we'll need to use one-hot encoding\r\n",
        "    optimizer = keras.optimizers.SGD(learning_rate=0.001, momentum=0.05, nesterov=False),\r\n",
        "    metrics = ['accuracy'],\r\n",
        ")\r\n",
        "\r\n",
        "SGD_model.fit(x_train, y_train, batch_size=32, epochs=5, verbose=2)\r\n",
        "print('\\n')\r\n",
        "SGD_model.evaluate(x_test, y_test, batch_size=32, verbose=2)"
      ],
      "execution_count": 37,
      "outputs": [
        {
          "output_type": "stream",
          "text": [
            "Epoch 1/5\n",
            "1875/1875 - 8s - loss: 1.6291 - accuracy: 0.6107\n",
            "Epoch 2/5\n",
            "1875/1875 - 7s - loss: 0.7779 - accuracy: 0.8317\n",
            "Epoch 3/5\n",
            "1875/1875 - 7s - loss: 0.5357 - accuracy: 0.8715\n",
            "Epoch 4/5\n",
            "1875/1875 - 7s - loss: 0.4443 - accuracy: 0.8866\n",
            "Epoch 5/5\n",
            "1875/1875 - 7s - loss: 0.3961 - accuracy: 0.8949\n",
            "\n",
            "\n",
            "313/313 - 1s - loss: 0.3627 - accuracy: 0.9023\n"
          ],
          "name": "stdout"
        },
        {
          "output_type": "execute_result",
          "data": {
            "text/plain": [
              "[0.3627067506313324, 0.9023000001907349]"
            ]
          },
          "metadata": {
            "tags": []
          },
          "execution_count": 37
        }
      ]
    },
    {
      "cell_type": "code",
      "metadata": {
        "id": "k8gzXJ5svH7C"
      },
      "source": [
        "#momentum = 0.09        train_accuracy = 0.8944       test_accuracy = 0.9038      nesterov = True\r\n",
        "#momentum = 0.05        train_accuracy = 0.8954       test_accuracy = 0.9051      nesterov = True\r\n",
        "#momentum = 0.01        train_accuracy = 0.8915       test_accuracy = 0.9014      nesterov = True\r\n",
        "\r\n",
        "#momentum = 0.05        train_accuracy = 0.8949       test_accuracy = 0.8949      nesterov = False"
      ],
      "execution_count": 38,
      "outputs": []
    },
    {
      "cell_type": "code",
      "metadata": {
        "colab": {
          "base_uri": "https://localhost:8080/"
        },
        "id": "1xBSK0Ybx3Nr",
        "outputId": "03887e6b-3f01-48a5-d1a4-ae1c1eb9f3b6"
      },
      "source": [
        "RMSprop_model = keras.Sequential(\r\n",
        "    [\r\n",
        "     # Layers\r\n",
        "     keras.Input(shape=(28*28)),\r\n",
        "     layers.Dense(512, activation='relu'),   # Fully Connected Layer\r\n",
        "     layers.Dense(256, activation='relu'),\r\n",
        "     layers.Dense(10),\r\n",
        "    ]\r\n",
        ")\r\n",
        "\r\n",
        "RMSprop_model.compile(                # Configuring how model is evaluated\r\n",
        "    loss = keras.losses.SparseCategoricalCrossentropy(from_logits=True),        # Loss Function, if we want only CategoricalCrossentropy then we'll need to use one-hot encoding\r\n",
        "    optimizer = keras.optimizers.RMSprop(learning_rate=0.001, rho=0.5, momentum=0.05, epsilon=1e-05, centered=True) ,\r\n",
        "    metrics = ['accuracy'],\r\n",
        ")\r\n",
        "\r\n",
        "RMSprop_model.fit(x_train, y_train, batch_size=32, epochs=5, verbose=2)\r\n",
        "print('\\n')\r\n",
        "RMSprop_model.evaluate(x_test, y_test, batch_size=32, verbose=2)"
      ],
      "execution_count": 39,
      "outputs": [
        {
          "output_type": "stream",
          "text": [
            "Epoch 1/5\n",
            "1875/1875 - 9s - loss: 0.2043 - accuracy: 0.9379\n",
            "Epoch 2/5\n",
            "1875/1875 - 9s - loss: 0.0840 - accuracy: 0.9743\n",
            "Epoch 3/5\n",
            "1875/1875 - 9s - loss: 0.0551 - accuracy: 0.9832\n",
            "Epoch 4/5\n",
            "1875/1875 - 9s - loss: 0.0405 - accuracy: 0.9872\n",
            "Epoch 5/5\n",
            "1875/1875 - 8s - loss: 0.0287 - accuracy: 0.9910\n",
            "\n",
            "\n",
            "313/313 - 1s - loss: 0.0722 - accuracy: 0.9801\n"
          ],
          "name": "stdout"
        },
        {
          "output_type": "execute_result",
          "data": {
            "text/plain": [
              "[0.07219903916120529, 0.9800999760627747]"
            ]
          },
          "metadata": {
            "tags": []
          },
          "execution_count": 39
        }
      ]
    },
    {
      "cell_type": "code",
      "metadata": {
        "id": "Iavo32ntyU1F"
      },
      "source": [
        ""
      ],
      "execution_count": null,
      "outputs": []
    }
  ]
}